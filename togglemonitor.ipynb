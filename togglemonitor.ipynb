{
 "cells": [
  {
   "cell_type": "code",
   "execution_count": 15,
   "metadata": {},
   "outputs": [],
   "source": [
    "import subprocess\n",
    "import re"
   ]
  },
  {
   "cell_type": "code",
   "execution_count": 84,
   "metadata": {},
   "outputs": [],
   "source": [
    "xrandr = subprocess.Popen(['xrandr'], stdout=subprocess.PIPE)\n",
    "out, err = xrandr.communicate()\n",
    "out = out.decode(\"utf-8\")\n"
   ]
  },
  {
   "cell_type": "code",
   "execution_count": 85,
   "metadata": {},
   "outputs": [
    {
     "data": {
      "text/plain": [
       "['LVDS1']"
      ]
     },
     "execution_count": 85,
     "metadata": {},
     "output_type": "execute_result"
    }
   ],
   "source": [
    "device = []\n",
    "for line in out.split('\\n'):\n",
    "    if(re.findall('\\\\bconnected\\\\b', line)):\n",
    "        temp = line.split()\n",
    "        device.append(temp[0])\n",
    "device"
   ]
  },
  {
   "cell_type": "code",
   "execution_count": 86,
   "metadata": {},
   "outputs": [
    {
     "name": "stdout",
     "output_type": "stream",
     "text": [
      "Only One Monitor Connected\n"
     ]
    }
   ],
   "source": [
    "if len(device) == 1:\n",
    "    print(\"Only One Monitor Connected\")\n",
    "else:\n",
    "    cmd = subprocess.Popen(['xrandr','--output',device[-1],'--auto','--right-of',device[0]], stdout=subprocess.PIPE)\n",
    "    cmd_out, cmd_err = cmd.communicate()\n",
    "    print(\"out \",cmd_out)\n",
    "    print(\"err\",cmd_err)"
   ]
  },
  {
   "cell_type": "code",
   "execution_count": null,
   "metadata": {},
   "outputs": [],
   "source": []
  }
 ],
 "metadata": {
  "kernelspec": {
   "display_name": "Python 3",
   "language": "python",
   "name": "python3"
  },
  "language_info": {
   "codemirror_mode": {
    "name": "ipython",
    "version": 3
   },
   "file_extension": ".py",
   "mimetype": "text/x-python",
   "name": "python",
   "nbconvert_exporter": "python",
   "pygments_lexer": "ipython3",
   "version": "3.8.3"
  }
 },
 "nbformat": 4,
 "nbformat_minor": 4
}
